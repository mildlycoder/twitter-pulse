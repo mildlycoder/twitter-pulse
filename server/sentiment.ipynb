{
 "cells": [
  {
   "cell_type": "code",
   "execution_count": 3,
   "metadata": {},
   "outputs": [
    {
     "name": "stdout",
     "output_type": "stream",
     "text": [
      "Requirement already satisfied: torch in c:\\users\\pranav\\anaconda3\\lib\\site-packages (1.13.1)\n",
      "Requirement already satisfied: torchvision in c:\\users\\pranav\\anaconda3\\lib\\site-packages (0.14.1)\n",
      "Requirement already satisfied: torchaudio in c:\\users\\pranav\\anaconda3\\lib\\site-packages (0.13.1)\n",
      "Requirement already satisfied: typing-extensions in c:\\users\\pranav\\anaconda3\\lib\\site-packages (from torch) (4.4.0)\n",
      "Requirement already satisfied: pillow!=8.3.*,>=5.3.0 in c:\\users\\pranav\\anaconda3\\lib\\site-packages (from torchvision) (9.3.0)\n",
      "Requirement already satisfied: numpy in c:\\users\\pranav\\anaconda3\\lib\\site-packages (from torchvision) (1.21.5)\n",
      "Requirement already satisfied: requests in c:\\users\\pranav\\anaconda3\\lib\\site-packages (from torchvision) (2.28.1)\n",
      "Requirement already satisfied: charset-normalizer<3,>=2 in c:\\users\\pranav\\anaconda3\\lib\\site-packages (from requests->torchvision) (2.0.4)\n",
      "Requirement already satisfied: idna<4,>=2.5 in c:\\users\\pranav\\anaconda3\\lib\\site-packages (from requests->torchvision) (3.4)\n",
      "Requirement already satisfied: urllib3<1.27,>=1.21.1 in c:\\users\\pranav\\anaconda3\\lib\\site-packages (from requests->torchvision) (1.26.13)\n",
      "Requirement already satisfied: certifi>=2017.4.17 in c:\\users\\pranav\\anaconda3\\lib\\site-packages (from requests->torchvision) (2022.12.7)\n",
      "Note: you may need to restart the kernel to use updated packages.\n",
      "Collecting transformers\n",
      "  Using cached transformers-4.26.1-py3-none-any.whl (6.3 MB)\n",
      "Requirement already satisfied: numpy>=1.17 in c:\\users\\pranav\\anaconda3\\lib\\site-packages (from transformers) (1.21.5)\n",
      "Requirement already satisfied: regex!=2019.12.17 in c:\\users\\pranav\\anaconda3\\lib\\site-packages (from transformers) (2022.7.9)\n",
      "Requirement already satisfied: packaging>=20.0 in c:\\users\\pranav\\anaconda3\\lib\\site-packages (from transformers) (22.0)\n",
      "Requirement already satisfied: requests in c:\\users\\pranav\\anaconda3\\lib\\site-packages (from transformers) (2.28.1)\n",
      "Collecting huggingface-hub<1.0,>=0.11.0\n",
      "  Using cached huggingface_hub-0.12.1-py3-none-any.whl (190 kB)\n",
      "Collecting tokenizers!=0.11.3,<0.14,>=0.11.1\n",
      "  Using cached tokenizers-0.13.2-cp39-cp39-win_amd64.whl (3.3 MB)\n",
      "Requirement already satisfied: tqdm>=4.27 in c:\\users\\pranav\\anaconda3\\lib\\site-packages (from transformers) (4.64.1)\n",
      "Requirement already satisfied: filelock in c:\\users\\pranav\\anaconda3\\lib\\site-packages (from transformers) (3.6.0)\n",
      "Requirement already satisfied: pyyaml>=5.1 in c:\\users\\pranav\\anaconda3\\lib\\site-packages (from transformers) (6.0)\n",
      "Requirement already satisfied: typing-extensions>=3.7.4.3 in c:\\users\\pranav\\anaconda3\\lib\\site-packages (from huggingface-hub<1.0,>=0.11.0->transformers) (4.4.0)\n",
      "Requirement already satisfied: colorama in c:\\users\\pranav\\anaconda3\\lib\\site-packages (from tqdm>=4.27->transformers) (0.4.5)\n",
      "Requirement already satisfied: idna<4,>=2.5 in c:\\users\\pranav\\anaconda3\\lib\\site-packages (from requests->transformers) (3.4)\n",
      "Requirement already satisfied: charset-normalizer<3,>=2 in c:\\users\\pranav\\anaconda3\\lib\\site-packages (from requests->transformers) (2.0.4)\n",
      "Requirement already satisfied: urllib3<1.27,>=1.21.1 in c:\\users\\pranav\\anaconda3\\lib\\site-packages (from requests->transformers) (1.26.13)\n",
      "Requirement already satisfied: certifi>=2017.4.17 in c:\\users\\pranav\\anaconda3\\lib\\site-packages (from requests->transformers) (2022.12.7)\n",
      "Installing collected packages: tokenizers, huggingface-hub, transformers\n",
      "Successfully installed huggingface-hub-0.12.1 tokenizers-0.13.2 transformers-4.26.1\n",
      "Note: you may need to restart the kernel to use updated packages.\n"
     ]
    }
   ],
   "source": [
    "%pip install torch torchvision torchaudio\n",
    "%pip install transformers"
   ]
  },
  {
   "cell_type": "code",
   "execution_count": 4,
   "metadata": {},
   "outputs": [],
   "source": [
    "from transformers import AutoTokenizer, AutoModelForSequenceClassification\n",
    "from scipy.special import softmax\n",
    "import pandas as pd\n",
    "import requests"
   ]
  },
  {
   "cell_type": "code",
   "execution_count": 5,
   "metadata": {},
   "outputs": [
    {
     "data": {
      "application/vnd.jupyter.widget-view+json": {
       "model_id": "4cb58ca4852747248de51c47e884894d",
       "version_major": 2,
       "version_minor": 0
      },
      "text/plain": [
       "Downloading (…)lve/main/config.json:   0%|          | 0.00/747 [00:00<?, ?B/s]"
      ]
     },
     "metadata": {},
     "output_type": "display_data"
    },
    {
     "name": "stderr",
     "output_type": "stream",
     "text": [
      "c:\\Users\\Pranav\\anaconda3\\lib\\site-packages\\huggingface_hub\\file_download.py:129: UserWarning: `huggingface_hub` cache-system uses symlinks by default to efficiently store duplicated files but your machine does not support them in C:\\Users\\Pranav\\.cache\\huggingface\\hub. Caching files will still work but in a degraded version that might require more space on your disk. This warning can be disabled by setting the `HF_HUB_DISABLE_SYMLINKS_WARNING` environment variable. For more details, see https://huggingface.co/docs/huggingface_hub/how-to-cache#limitations.\n",
      "To support symlinks on Windows, you either need to activate Developer Mode or to run Python as an administrator. In order to see activate developer mode, see this article: https://docs.microsoft.com/en-us/windows/apps/get-started/enable-your-device-for-development\n",
      "  warnings.warn(message)\n"
     ]
    },
    {
     "data": {
      "application/vnd.jupyter.widget-view+json": {
       "model_id": "2fdb9ecd7e494546b0a03534e32b863d",
       "version_major": 2,
       "version_minor": 0
      },
      "text/plain": [
       "Downloading (…)\"pytorch_model.bin\";:   0%|          | 0.00/499M [00:00<?, ?B/s]"
      ]
     },
     "metadata": {},
     "output_type": "display_data"
    },
    {
     "data": {
      "application/vnd.jupyter.widget-view+json": {
       "model_id": "55209ca1b9844e46a7fe358d34f66643",
       "version_major": 2,
       "version_minor": 0
      },
      "text/plain": [
       "Downloading (…)olve/main/vocab.json:   0%|          | 0.00/899k [00:00<?, ?B/s]"
      ]
     },
     "metadata": {},
     "output_type": "display_data"
    },
    {
     "data": {
      "application/vnd.jupyter.widget-view+json": {
       "model_id": "fc72d50b3bea4914a174543baa635d0f",
       "version_major": 2,
       "version_minor": 0
      },
      "text/plain": [
       "Downloading (…)olve/main/merges.txt:   0%|          | 0.00/456k [00:00<?, ?B/s]"
      ]
     },
     "metadata": {},
     "output_type": "display_data"
    },
    {
     "data": {
      "application/vnd.jupyter.widget-view+json": {
       "model_id": "e2c22dbb3be74e68889d72230fc40b49",
       "version_major": 2,
       "version_minor": 0
      },
      "text/plain": [
       "Downloading (…)cial_tokens_map.json:   0%|          | 0.00/150 [00:00<?, ?B/s]"
      ]
     },
     "metadata": {},
     "output_type": "display_data"
    }
   ],
   "source": [
    "roberta = \"cardiffnlp/twitter-roberta-base-sentiment\"\n",
    "\n",
    "model = AutoModelForSequenceClassification.from_pretrained(roberta)\n",
    "tokenizer = AutoTokenizer.from_pretrained(roberta)\n",
    "labels = ['Negative', 'Neutral', 'Positive']\n",
    "\n",
    "    # Here we are loading tweets from file\n",
    "tweets_df = pd.read_csv(\"tweets.csv\")\n",
    "\n",
    "results = []"
   ]
  },
  {
   "cell_type": "code",
   "execution_count": 13,
   "metadata": {},
   "outputs": [],
   "source": [
    "for tweet in tweets_df[\"tweet\"]:\n",
    "# preprocessing the tweet\n",
    "    tweet_words = []\n",
    "\n",
    "    for word in tweet.split(' '):\n",
    "        if word.startswith('@') and len(word) > 1:\n",
    "            word = '@user'\n",
    "\n",
    "        elif word.startswith('http'):\n",
    "            word = \"http\"\n",
    "            tweet_words.append(word)\n",
    "\n",
    "        tweet_proc = \" \".join(tweet_words)\n",
    "\n",
    "        # Here we are perfomring sentiment analysis\n",
    "        encoded_tweet = tokenizer(tweet_proc, return_tensors='pt')\n",
    "        output = model(**encoded_tweet)\n",
    "\n",
    "        scores = output[0][0].detach().numpy()\n",
    "        scores = softmax(scores)\n",
    "\n",
    "        tweet_result = {}\n",
    "\n",
    "        for i in range(len(scores)):\n",
    "            l = labels[i]\n",
    "            s = scores[i]\n",
    "            tweet_result[l] = s\n",
    "\n",
    "        results.append(tweet_result)\n",
    "        \n",
    "        # print sentiment analysis result"
   ]
  },
  {
   "cell_type": "code",
   "execution_count": 17,
   "metadata": {},
   "outputs": [
    {
     "data": {
      "text/html": [
       "<div>\n",
       "<style scoped>\n",
       "    .dataframe tbody tr th:only-of-type {\n",
       "        vertical-align: middle;\n",
       "    }\n",
       "\n",
       "    .dataframe tbody tr th {\n",
       "        vertical-align: top;\n",
       "    }\n",
       "\n",
       "    .dataframe thead th {\n",
       "        text-align: right;\n",
       "    }\n",
       "</style>\n",
       "<table border=\"1\" class=\"dataframe\">\n",
       "  <thead>\n",
       "    <tr style=\"text-align: right;\">\n",
       "      <th></th>\n",
       "      <th>0</th>\n",
       "      <th>1</th>\n",
       "      <th>2</th>\n",
       "      <th>3</th>\n",
       "      <th>4</th>\n",
       "      <th>5</th>\n",
       "      <th>6</th>\n",
       "      <th>7</th>\n",
       "      <th>8</th>\n",
       "      <th>9</th>\n",
       "      <th>...</th>\n",
       "      <th>8718</th>\n",
       "      <th>8719</th>\n",
       "      <th>8720</th>\n",
       "      <th>8721</th>\n",
       "      <th>8722</th>\n",
       "      <th>8723</th>\n",
       "      <th>8724</th>\n",
       "      <th>8725</th>\n",
       "      <th>8726</th>\n",
       "      <th>8727</th>\n",
       "    </tr>\n",
       "  </thead>\n",
       "  <tbody>\n",
       "    <tr>\n",
       "      <th>0</th>\n",
       "      <td>{'Negative': 0.2582943, 'Neutral': 0.45127246,...</td>\n",
       "      <td>{'Negative': 0.2582943, 'Neutral': 0.45127246,...</td>\n",
       "      <td>{'Negative': 0.2582943, 'Neutral': 0.45127246,...</td>\n",
       "      <td>{'Negative': 0.2582943, 'Neutral': 0.45127246,...</td>\n",
       "      <td>{'Negative': 0.2582943, 'Neutral': 0.45127246,...</td>\n",
       "      <td>{'Negative': 0.2582943, 'Neutral': 0.45127246,...</td>\n",
       "      <td>{'Negative': 0.2582943, 'Neutral': 0.45127246,...</td>\n",
       "      <td>{'Negative': 0.2582943, 'Neutral': 0.45127246,...</td>\n",
       "      <td>{'Negative': 0.2582943, 'Neutral': 0.45127246,...</td>\n",
       "      <td>{'Negative': 0.2582943, 'Neutral': 0.45127246,...</td>\n",
       "      <td>...</td>\n",
       "      <td>{'Negative': 0.2582943, 'Neutral': 0.45127246,...</td>\n",
       "      <td>{'Negative': 0.2582943, 'Neutral': 0.45127246,...</td>\n",
       "      <td>{'Negative': 0.2582943, 'Neutral': 0.45127246,...</td>\n",
       "      <td>{'Negative': 0.2582943, 'Neutral': 0.45127246,...</td>\n",
       "      <td>{'Negative': 0.2582943, 'Neutral': 0.45127246,...</td>\n",
       "      <td>{'Negative': 0.2582943, 'Neutral': 0.45127246,...</td>\n",
       "      <td>{'Negative': 0.2582943, 'Neutral': 0.45127246,...</td>\n",
       "      <td>{'Negative': 0.2582943, 'Neutral': 0.45127246,...</td>\n",
       "      <td>{'Negative': 0.2582943, 'Neutral': 0.45127246,...</td>\n",
       "      <td>{'Negative': 0.2582943, 'Neutral': 0.45127246,...</td>\n",
       "    </tr>\n",
       "  </tbody>\n",
       "</table>\n",
       "<p>1 rows × 8728 columns</p>\n",
       "</div>"
      ],
      "text/plain": [
       "                                                0     \\\n",
       "0  {'Negative': 0.2582943, 'Neutral': 0.45127246,...   \n",
       "\n",
       "                                                1     \\\n",
       "0  {'Negative': 0.2582943, 'Neutral': 0.45127246,...   \n",
       "\n",
       "                                                2     \\\n",
       "0  {'Negative': 0.2582943, 'Neutral': 0.45127246,...   \n",
       "\n",
       "                                                3     \\\n",
       "0  {'Negative': 0.2582943, 'Neutral': 0.45127246,...   \n",
       "\n",
       "                                                4     \\\n",
       "0  {'Negative': 0.2582943, 'Neutral': 0.45127246,...   \n",
       "\n",
       "                                                5     \\\n",
       "0  {'Negative': 0.2582943, 'Neutral': 0.45127246,...   \n",
       "\n",
       "                                                6     \\\n",
       "0  {'Negative': 0.2582943, 'Neutral': 0.45127246,...   \n",
       "\n",
       "                                                7     \\\n",
       "0  {'Negative': 0.2582943, 'Neutral': 0.45127246,...   \n",
       "\n",
       "                                                8     \\\n",
       "0  {'Negative': 0.2582943, 'Neutral': 0.45127246,...   \n",
       "\n",
       "                                                9     ...  \\\n",
       "0  {'Negative': 0.2582943, 'Neutral': 0.45127246,...  ...   \n",
       "\n",
       "                                                8718  \\\n",
       "0  {'Negative': 0.2582943, 'Neutral': 0.45127246,...   \n",
       "\n",
       "                                                8719  \\\n",
       "0  {'Negative': 0.2582943, 'Neutral': 0.45127246,...   \n",
       "\n",
       "                                                8720  \\\n",
       "0  {'Negative': 0.2582943, 'Neutral': 0.45127246,...   \n",
       "\n",
       "                                                8721  \\\n",
       "0  {'Negative': 0.2582943, 'Neutral': 0.45127246,...   \n",
       "\n",
       "                                                8722  \\\n",
       "0  {'Negative': 0.2582943, 'Neutral': 0.45127246,...   \n",
       "\n",
       "                                                8723  \\\n",
       "0  {'Negative': 0.2582943, 'Neutral': 0.45127246,...   \n",
       "\n",
       "                                                8724  \\\n",
       "0  {'Negative': 0.2582943, 'Neutral': 0.45127246,...   \n",
       "\n",
       "                                                8725  \\\n",
       "0  {'Negative': 0.2582943, 'Neutral': 0.45127246,...   \n",
       "\n",
       "                                                8726  \\\n",
       "0  {'Negative': 0.2582943, 'Neutral': 0.45127246,...   \n",
       "\n",
       "                                                8727  \n",
       "0  {'Negative': 0.2582943, 'Neutral': 0.45127246,...  \n",
       "\n",
       "[1 rows x 8728 columns]"
      ]
     },
     "execution_count": 17,
     "metadata": {},
     "output_type": "execute_result"
    }
   ],
   "source": [
    "sentiment_analysis = [results]\n",
    "df = pd.DataFrame(sentiment_analysis)\n",
    "df.to_csv('sentiment.csv')\n",
    "df"
   ]
  }
 ],
 "metadata": {
  "kernelspec": {
   "display_name": "base",
   "language": "python",
   "name": "python3"
  },
  "language_info": {
   "codemirror_mode": {
    "name": "ipython",
    "version": 3
   },
   "file_extension": ".py",
   "mimetype": "text/x-python",
   "name": "python",
   "nbconvert_exporter": "python",
   "pygments_lexer": "ipython3",
   "version": "3.9.13"
  },
  "orig_nbformat": 4,
  "vscode": {
   "interpreter": {
    "hash": "bed750ec10077b693c4028a2167569fca34734af31203687d48b42e262868471"
   }
  }
 },
 "nbformat": 4,
 "nbformat_minor": 2
}
