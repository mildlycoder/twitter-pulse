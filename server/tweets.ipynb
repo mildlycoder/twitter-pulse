{
 "cells": [
  {
   "cell_type": "code",
   "execution_count": 2,
   "metadata": {},
   "outputs": [
    {
     "name": "stdout",
     "output_type": "stream",
     "text": [
      "Collecting snscrape\n",
      "  Using cached snscrape-0.5.0.20230113-py3-none-any.whl (69 kB)\n",
      "Requirement already satisfied: beautifulsoup4 in c:\\users\\pranav\\anaconda3\\lib\\site-packages (from snscrape) (4.11.1)\n",
      "Requirement already satisfied: filelock in c:\\users\\pranav\\anaconda3\\lib\\site-packages (from snscrape) (3.6.0)\n",
      "Requirement already satisfied: lxml in c:\\users\\pranav\\anaconda3\\lib\\site-packages (from snscrape) (4.9.1)\n",
      "Requirement already satisfied: requests[socks] in c:\\users\\pranav\\anaconda3\\lib\\site-packages (from snscrape) (2.28.1)\n",
      "Requirement already satisfied: soupsieve>1.2 in c:\\users\\pranav\\anaconda3\\lib\\site-packages (from beautifulsoup4->snscrape) (2.3.2.post1)\n",
      "Requirement already satisfied: idna<4,>=2.5 in c:\\users\\pranav\\anaconda3\\lib\\site-packages (from requests[socks]->snscrape) (3.4)\n",
      "Requirement already satisfied: charset-normalizer<3,>=2 in c:\\users\\pranav\\anaconda3\\lib\\site-packages (from requests[socks]->snscrape) (2.0.4)\n",
      "Requirement already satisfied: urllib3<1.27,>=1.21.1 in c:\\users\\pranav\\anaconda3\\lib\\site-packages (from requests[socks]->snscrape) (1.26.13)\n",
      "Requirement already satisfied: certifi>=2017.4.17 in c:\\users\\pranav\\anaconda3\\lib\\site-packages (from requests[socks]->snscrape) (2022.12.7)\n",
      "Requirement already satisfied: PySocks!=1.5.7,>=1.5.6 in c:\\users\\pranav\\anaconda3\\lib\\site-packages (from requests[socks]->snscrape) (1.7.1)\n",
      "Installing collected packages: snscrape\n",
      "Successfully installed snscrape-0.5.0.20230113\n",
      "Note: you may need to restart the kernel to use updated packages.\n"
     ]
    }
   ],
   "source": [
    "%pip install snscrape"
   ]
  },
  {
   "cell_type": "code",
   "execution_count": 3,
   "metadata": {},
   "outputs": [],
   "source": [
    "import snscrape.modules.twitter as sntwitter\n",
    "import pandas as pd"
   ]
  },
  {
   "cell_type": "code",
   "execution_count": 15,
   "metadata": {},
   "outputs": [],
   "source": [
    "query = \"(from:elonmusk)\"\n",
    "tweets = []\n",
    "limit = 200"
   ]
  },
  {
   "cell_type": "code",
   "execution_count": 16,
   "metadata": {},
   "outputs": [
    {
     "name": "stderr",
     "output_type": "stream",
     "text": [
      "C:\\Users\\Pranav\\AppData\\Local\\Temp\\ipykernel_10140\\2270710327.py:8: FutureWarning: username is deprecated, use user.username instead\n",
      "  tweets.append([tweet.date, tweet.username, tweet.content])\n",
      "C:\\Users\\Pranav\\AppData\\Local\\Temp\\ipykernel_10140\\2270710327.py:8: FutureWarning: content is deprecated, use rawContent instead\n",
      "  tweets.append([tweet.date, tweet.username, tweet.content])\n"
     ]
    },
    {
     "data": {
      "text/html": [
       "<div>\n",
       "<style scoped>\n",
       "    .dataframe tbody tr th:only-of-type {\n",
       "        vertical-align: middle;\n",
       "    }\n",
       "\n",
       "    .dataframe tbody tr th {\n",
       "        vertical-align: top;\n",
       "    }\n",
       "\n",
       "    .dataframe thead th {\n",
       "        text-align: right;\n",
       "    }\n",
       "</style>\n",
       "<table border=\"1\" class=\"dataframe\">\n",
       "  <thead>\n",
       "    <tr style=\"text-align: right;\">\n",
       "      <th></th>\n",
       "      <th>Date</th>\n",
       "      <th>User</th>\n",
       "      <th>tweet</th>\n",
       "    </tr>\n",
       "  </thead>\n",
       "  <tbody>\n",
       "    <tr>\n",
       "      <th>0</th>\n",
       "      <td>2023-03-01 07:15:08+00:00</td>\n",
       "      <td>elonmusk</td>\n",
       "      <td>@neontaster 🔥🔥</td>\n",
       "    </tr>\n",
       "    <tr>\n",
       "      <th>1</th>\n",
       "      <td>2023-03-01 07:13:17+00:00</td>\n",
       "      <td>elonmusk</td>\n",
       "      <td>@Rainmaker1973 Intense</td>\n",
       "    </tr>\n",
       "    <tr>\n",
       "      <th>2</th>\n",
       "      <td>2023-03-01 07:08:42+00:00</td>\n",
       "      <td>elonmusk</td>\n",
       "      <td>@EvaFoxU 🤣</td>\n",
       "    </tr>\n",
       "    <tr>\n",
       "      <th>3</th>\n",
       "      <td>2023-03-01 07:00:06+00:00</td>\n",
       "      <td>elonmusk</td>\n",
       "      <td>@SawyerMerritt 🤣</td>\n",
       "    </tr>\n",
       "    <tr>\n",
       "      <th>4</th>\n",
       "      <td>2023-03-01 06:25:20+00:00</td>\n",
       "      <td>elonmusk</td>\n",
       "      <td>What do you call an infinite gear ratio?\\nAll ...</td>\n",
       "    </tr>\n",
       "    <tr>\n",
       "      <th>...</th>\n",
       "      <td>...</td>\n",
       "      <td>...</td>\n",
       "      <td>...</td>\n",
       "    </tr>\n",
       "    <tr>\n",
       "      <th>195</th>\n",
       "      <td>2023-02-23 00:04:15+00:00</td>\n",
       "      <td>elonmusk</td>\n",
       "      <td>@BillyM2k @triketora (hoping they stay there🤞)</td>\n",
       "    </tr>\n",
       "    <tr>\n",
       "      <th>196</th>\n",
       "      <td>2023-02-22 20:29:16+00:00</td>\n",
       "      <td>elonmusk</td>\n",
       "      <td>@MuskUniversity Had a major influence on me</td>\n",
       "    </tr>\n",
       "    <tr>\n",
       "      <th>197</th>\n",
       "      <td>2023-02-22 18:23:00+00:00</td>\n",
       "      <td>elonmusk</td>\n",
       "      <td>@Kristennetten Doing all that masonry for free...</td>\n",
       "    </tr>\n",
       "    <tr>\n",
       "      <th>198</th>\n",
       "      <td>2023-02-22 18:19:34+00:00</td>\n",
       "      <td>elonmusk</td>\n",
       "      <td>@realchrisrufo The would be a major restructur...</td>\n",
       "    </tr>\n",
       "    <tr>\n",
       "      <th>199</th>\n",
       "      <td>2023-02-22 18:15:41+00:00</td>\n",
       "      <td>elonmusk</td>\n",
       "      <td>@TrungTPhan 💯</td>\n",
       "    </tr>\n",
       "  </tbody>\n",
       "</table>\n",
       "<p>200 rows × 3 columns</p>\n",
       "</div>"
      ],
      "text/plain": [
       "                         Date      User  \\\n",
       "0   2023-03-01 07:15:08+00:00  elonmusk   \n",
       "1   2023-03-01 07:13:17+00:00  elonmusk   \n",
       "2   2023-03-01 07:08:42+00:00  elonmusk   \n",
       "3   2023-03-01 07:00:06+00:00  elonmusk   \n",
       "4   2023-03-01 06:25:20+00:00  elonmusk   \n",
       "..                        ...       ...   \n",
       "195 2023-02-23 00:04:15+00:00  elonmusk   \n",
       "196 2023-02-22 20:29:16+00:00  elonmusk   \n",
       "197 2023-02-22 18:23:00+00:00  elonmusk   \n",
       "198 2023-02-22 18:19:34+00:00  elonmusk   \n",
       "199 2023-02-22 18:15:41+00:00  elonmusk   \n",
       "\n",
       "                                                 tweet  \n",
       "0                                       @neontaster 🔥🔥  \n",
       "1                               @Rainmaker1973 Intense  \n",
       "2                                           @EvaFoxU 🤣  \n",
       "3                                     @SawyerMerritt 🤣  \n",
       "4    What do you call an infinite gear ratio?\\nAll ...  \n",
       "..                                                 ...  \n",
       "195     @BillyM2k @triketora (hoping they stay there🤞)  \n",
       "196        @MuskUniversity Had a major influence on me  \n",
       "197  @Kristennetten Doing all that masonry for free...  \n",
       "198  @realchrisrufo The would be a major restructur...  \n",
       "199                                      @TrungTPhan 💯  \n",
       "\n",
       "[200 rows x 3 columns]"
      ]
     },
     "execution_count": 16,
     "metadata": {},
     "output_type": "execute_result"
    }
   ],
   "source": [
    "for tweet in sntwitter.TwitterSearchScraper(query).get_items():\n",
    "    \n",
    "    # print(vars(tweet))\n",
    "    # break\n",
    "    if len(tweets) == limit:\n",
    "        break\n",
    "    else:\n",
    "        tweets.append([tweet.date, tweet.username, tweet.content])\n",
    "        \n",
    "df = pd.DataFrame(tweets, columns=['Date', 'User', 'tweet'])\n",
    "df"
   ]
  },
  {
   "cell_type": "code",
   "execution_count": 9,
   "metadata": {},
   "outputs": [],
   "source": [
    "df.to_csv('tweets.csv')"
   ]
  }
 ],
 "metadata": {
  "kernelspec": {
   "display_name": "base",
   "language": "python",
   "name": "python3"
  },
  "language_info": {
   "codemirror_mode": {
    "name": "ipython",
    "version": 3
   },
   "file_extension": ".py",
   "mimetype": "text/x-python",
   "name": "python",
   "nbconvert_exporter": "python",
   "pygments_lexer": "ipython3",
   "version": "3.9.13"
  },
  "orig_nbformat": 4,
  "vscode": {
   "interpreter": {
    "hash": "bed750ec10077b693c4028a2167569fca34734af31203687d48b42e262868471"
   }
  }
 },
 "nbformat": 4,
 "nbformat_minor": 2
}
